{
 "cells": [
  {
   "cell_type": "code",
   "execution_count": 17,
   "id": "2d1ec73d-2562-46c8-a7e8-88e84b7005b4",
   "metadata": {},
   "outputs": [],
   "source": [
    "def print_dataset(ds):\n",
    "    for inputs, targets in ds:\n",
    "        print(\"---Batch---\")\n",
    "        print(\"Feature:\", inputs.numpy())\n",
    "        print(\"Label:\", targets.numpy())\n",
    "        print(\"\")"
   ]
  },
  {
   "cell_type": "code",
   "execution_count": 204,
   "id": "ce9b1397-5607-4344-bba4-4b149ee7d298",
   "metadata": {},
   "outputs": [],
   "source": [
    "from tensorflow.keras.preprocessing import timeseries_dataset_from_array\n",
    "import numpy as np\n",
    "\n",
    "x = np.array([[1,1,1,1,1,1,1],\n",
    "              [2,2,2,2,2,2,2],\n",
    "              [3,3,3,3,3,3,3],\n",
    "              [4,4,4,4,4,4,4],\n",
    "              [5,5,5,5,5,5,5]   \n",
    "              ])\n",
    "y = np.array([[-1],\n",
    "              [-2],\n",
    "              [-3],\n",
    "              [-4],\n",
    "              [-5]   \n",
    "              ])\n",
    "xx = np.concatenate((x, x+100), axis=0)#.reshape(2,5,6)  \n",
    "yy = np.concatenate((y, y-100), axis=0)\n",
    "    \n",
    "sequence_length=2\n",
    "stride=1\n",
    "rate=1\n",
    "batch_size = 1\n",
    "input_dataset = timeseries_dataset_from_array(xx,\n",
    "                                              yy,\n",
    "                                              sequence_length,\n",
    "                                              sequence_stride=stride,\n",
    "                                              batch_size=batch_size,\n",
    "                                              sampling_rate=rate)\n",
    "\n",
    "#x_test = np.concatenate([x for x in input_dataset], axis=0)"
   ]
  },
  {
   "cell_type": "code",
   "execution_count": 197,
   "id": "1bddcd64-840d-4e6e-b202-64f5b7858a63",
   "metadata": {},
   "outputs": [
    {
     "name": "stdout",
     "output_type": "stream",
     "text": [
      "---Batch---\n",
      "Feature: [[[1 1 1 1 1 1 1]\n",
      "  [2 2 2 2 2 2 2]]]\n",
      "Label: [[-1]]\n",
      "\n",
      "---Batch---\n",
      "Feature: [[[2 2 2 2 2 2 2]\n",
      "  [3 3 3 3 3 3 3]]]\n",
      "Label: [[-2]]\n",
      "\n",
      "---Batch---\n",
      "Feature: [[[3 3 3 3 3 3 3]\n",
      "  [4 4 4 4 4 4 4]]]\n",
      "Label: [[-3]]\n",
      "\n",
      "---Batch---\n",
      "Feature: [[[4 4 4 4 4 4 4]\n",
      "  [5 5 5 5 5 5 5]]]\n",
      "Label: [[-4]]\n",
      "\n",
      "---Batch---\n",
      "Feature: [[[  5   5   5   5   5   5   5]\n",
      "  [101 101 101 101 101 101 101]]]\n",
      "Label: [[-5]]\n",
      "\n",
      "---Batch---\n",
      "Feature: [[[101 101 101 101 101 101 101]\n",
      "  [102 102 102 102 102 102 102]]]\n",
      "Label: [[-101]]\n",
      "\n",
      "---Batch---\n",
      "Feature: [[[102 102 102 102 102 102 102]\n",
      "  [103 103 103 103 103 103 103]]]\n",
      "Label: [[-102]]\n",
      "\n",
      "---Batch---\n",
      "Feature: [[[103 103 103 103 103 103 103]\n",
      "  [104 104 104 104 104 104 104]]]\n",
      "Label: [[-103]]\n",
      "\n",
      "---Batch---\n",
      "Feature: [[[104 104 104 104 104 104 104]\n",
      "  [105 105 105 105 105 105 105]]]\n",
      "Label: [[-104]]\n",
      "\n"
     ]
    }
   ],
   "source": [
    "print_dataset(input_dataset)"
   ]
  },
  {
   "cell_type": "code",
   "execution_count": 198,
   "id": "09b7a44d-2aa4-4f32-a216-7819bdac26ef",
   "metadata": {},
   "outputs": [
    {
     "data": {
      "text/plain": [
       "[(<tf.Tensor: shape=(1, 2, 7), dtype=int32, numpy=\n",
       "  array([[[1, 1, 1, 1, 1, 1, 1],\n",
       "          [2, 2, 2, 2, 2, 2, 2]]])>,\n",
       "  <tf.Tensor: shape=(1, 1), dtype=int32, numpy=array([[-1]])>),\n",
       " (<tf.Tensor: shape=(1, 2, 7), dtype=int32, numpy=\n",
       "  array([[[2, 2, 2, 2, 2, 2, 2],\n",
       "          [3, 3, 3, 3, 3, 3, 3]]])>,\n",
       "  <tf.Tensor: shape=(1, 1), dtype=int32, numpy=array([[-2]])>),\n",
       " (<tf.Tensor: shape=(1, 2, 7), dtype=int32, numpy=\n",
       "  array([[[3, 3, 3, 3, 3, 3, 3],\n",
       "          [4, 4, 4, 4, 4, 4, 4]]])>,\n",
       "  <tf.Tensor: shape=(1, 1), dtype=int32, numpy=array([[-3]])>),\n",
       " (<tf.Tensor: shape=(1, 2, 7), dtype=int32, numpy=\n",
       "  array([[[4, 4, 4, 4, 4, 4, 4],\n",
       "          [5, 5, 5, 5, 5, 5, 5]]])>,\n",
       "  <tf.Tensor: shape=(1, 1), dtype=int32, numpy=array([[-4]])>),\n",
       " (<tf.Tensor: shape=(1, 2, 7), dtype=int32, numpy=\n",
       "  array([[[  5,   5,   5,   5,   5,   5,   5],\n",
       "          [101, 101, 101, 101, 101, 101, 101]]])>,\n",
       "  <tf.Tensor: shape=(1, 1), dtype=int32, numpy=array([[-5]])>),\n",
       " (<tf.Tensor: shape=(1, 2, 7), dtype=int32, numpy=\n",
       "  array([[[101, 101, 101, 101, 101, 101, 101],\n",
       "          [102, 102, 102, 102, 102, 102, 102]]])>,\n",
       "  <tf.Tensor: shape=(1, 1), dtype=int32, numpy=array([[-101]])>),\n",
       " (<tf.Tensor: shape=(1, 2, 7), dtype=int32, numpy=\n",
       "  array([[[102, 102, 102, 102, 102, 102, 102],\n",
       "          [103, 103, 103, 103, 103, 103, 103]]])>,\n",
       "  <tf.Tensor: shape=(1, 1), dtype=int32, numpy=array([[-102]])>),\n",
       " (<tf.Tensor: shape=(1, 2, 7), dtype=int32, numpy=\n",
       "  array([[[103, 103, 103, 103, 103, 103, 103],\n",
       "          [104, 104, 104, 104, 104, 104, 104]]])>,\n",
       "  <tf.Tensor: shape=(1, 1), dtype=int32, numpy=array([[-103]])>),\n",
       " (<tf.Tensor: shape=(1, 2, 7), dtype=int32, numpy=\n",
       "  array([[[104, 104, 104, 104, 104, 104, 104],\n",
       "          [105, 105, 105, 105, 105, 105, 105]]])>,\n",
       "  <tf.Tensor: shape=(1, 1), dtype=int32, numpy=array([[-104]])>)]"
      ]
     },
     "execution_count": 198,
     "metadata": {},
     "output_type": "execute_result"
    }
   ],
   "source": [
    "[x for x in input_dataset]"
   ]
  },
  {
   "cell_type": "code",
   "execution_count": 206,
   "id": "7903270c-5d5c-4162-bf07-81defc610a26",
   "metadata": {},
   "outputs": [],
   "source": [
    "xxx = xx.reshape(2,5,7)  \n",
    "yyy = yy.reshape(2,5,1)\n",
    "\n",
    "# create two tensorflow datasets\n",
    "input_dataset0 = timeseries_dataset_from_array(xxx[0,:,:],\n",
    "                                               yyy[0,:,:],\n",
    "                                               sequence_length,\n",
    "                                               sequence_stride=stride,\n",
    "                                               batch_size=batch_size,\n",
    "                                               sampling_rate=rate)\n",
    "input_dataset1 = timeseries_dataset_from_array(xxx[1,:,:],\n",
    "                                               yyy[1,:,:],\n",
    "                                               sequence_length,\n",
    "                                               sequence_stride=stride,\n",
    "                                               batch_size=batch_size,\n",
    "                                               sampling_rate=rate)\n",
    "# concatenate the two tensorflow datasets\n",
    "input_dataset = input_dataset0.concatenate(input_dataset1)\n",
    "\n",
    "x_test = np.concatenate([x for x, y in input_dataset], axis=0)\n"
   ]
  },
  {
   "cell_type": "code",
   "execution_count": 208,
   "id": "cd431e27-1b15-4ada-ae17-00b8f7d7f97d",
   "metadata": {},
   "outputs": [
    {
     "data": {
      "text/plain": [
       "array([[[  1,   1,   1,   1,   1,   1,   1],\n",
       "        [  2,   2,   2,   2,   2,   2,   2]],\n",
       "\n",
       "       [[  2,   2,   2,   2,   2,   2,   2],\n",
       "        [  3,   3,   3,   3,   3,   3,   3]],\n",
       "\n",
       "       [[  3,   3,   3,   3,   3,   3,   3],\n",
       "        [  4,   4,   4,   4,   4,   4,   4]],\n",
       "\n",
       "       [[  4,   4,   4,   4,   4,   4,   4],\n",
       "        [  5,   5,   5,   5,   5,   5,   5]],\n",
       "\n",
       "       [[101, 101, 101, 101, 101, 101, 101],\n",
       "        [102, 102, 102, 102, 102, 102, 102]],\n",
       "\n",
       "       [[102, 102, 102, 102, 102, 102, 102],\n",
       "        [103, 103, 103, 103, 103, 103, 103]],\n",
       "\n",
       "       [[103, 103, 103, 103, 103, 103, 103],\n",
       "        [104, 104, 104, 104, 104, 104, 104]],\n",
       "\n",
       "       [[104, 104, 104, 104, 104, 104, 104],\n",
       "        [105, 105, 105, 105, 105, 105, 105]]])"
      ]
     },
     "execution_count": 208,
     "metadata": {},
     "output_type": "execute_result"
    }
   ],
   "source": [
    "x_test"
   ]
  },
  {
   "cell_type": "code",
   "execution_count": 207,
   "id": "247dbb7e-13f0-4b24-866e-57149b5a3ab3",
   "metadata": {},
   "outputs": [
    {
     "data": {
      "text/plain": [
       "(8, 2, 7)"
      ]
     },
     "execution_count": 207,
     "metadata": {},
     "output_type": "execute_result"
    }
   ],
   "source": [
    "x_test.shape"
   ]
  },
  {
   "cell_type": "code",
   "execution_count": 200,
   "id": "1853949c-3cd4-45ad-899a-e931819eee38",
   "metadata": {},
   "outputs": [
    {
     "name": "stdout",
     "output_type": "stream",
     "text": [
      "---Batch---\n",
      "Feature: [[[1 1 1 1 1 1 1]\n",
      "  [2 2 2 2 2 2 2]]]\n",
      "Label: [[-1]]\n",
      "\n",
      "---Batch---\n",
      "Feature: [[[2 2 2 2 2 2 2]\n",
      "  [3 3 3 3 3 3 3]]]\n",
      "Label: [[-2]]\n",
      "\n",
      "---Batch---\n",
      "Feature: [[[3 3 3 3 3 3 3]\n",
      "  [4 4 4 4 4 4 4]]]\n",
      "Label: [[-3]]\n",
      "\n",
      "---Batch---\n",
      "Feature: [[[4 4 4 4 4 4 4]\n",
      "  [5 5 5 5 5 5 5]]]\n",
      "Label: [[-4]]\n",
      "\n",
      "---Batch---\n",
      "Feature: [[[101 101 101 101 101 101 101]\n",
      "  [102 102 102 102 102 102 102]]]\n",
      "Label: [[-101]]\n",
      "\n",
      "---Batch---\n",
      "Feature: [[[102 102 102 102 102 102 102]\n",
      "  [103 103 103 103 103 103 103]]]\n",
      "Label: [[-102]]\n",
      "\n",
      "---Batch---\n",
      "Feature: [[[103 103 103 103 103 103 103]\n",
      "  [104 104 104 104 104 104 104]]]\n",
      "Label: [[-103]]\n",
      "\n",
      "---Batch---\n",
      "Feature: [[[104 104 104 104 104 104 104]\n",
      "  [105 105 105 105 105 105 105]]]\n",
      "Label: [[-104]]\n",
      "\n"
     ]
    }
   ],
   "source": [
    "print_dataset(input_dataset)"
   ]
  },
  {
   "cell_type": "code",
   "execution_count": 209,
   "id": "b39dfbd8-8317-4f76-9710-79a22b871ca5",
   "metadata": {},
   "outputs": [
    {
     "ename": "AttributeError",
     "evalue": "'tuple' object has no attribute 'numpy'",
     "output_type": "error",
     "traceback": [
      "\u001b[1;31m---------------------------------------------------------------------------\u001b[0m",
      "\u001b[1;31mAttributeError\u001b[0m                            Traceback (most recent call last)",
      "Cell \u001b[1;32mIn[209], line 1\u001b[0m\n\u001b[1;32m----> 1\u001b[0m [x\u001b[38;5;241m.\u001b[39mnumpy() \u001b[38;5;28;01mfor\u001b[39;00m x \u001b[38;5;129;01min\u001b[39;00m input_dataset]\n",
      "Cell \u001b[1;32mIn[209], line 1\u001b[0m, in \u001b[0;36m<listcomp>\u001b[1;34m(.0)\u001b[0m\n\u001b[1;32m----> 1\u001b[0m [\u001b[43mx\u001b[49m\u001b[38;5;241;43m.\u001b[39;49m\u001b[43mnumpy\u001b[49m() \u001b[38;5;28;01mfor\u001b[39;00m x \u001b[38;5;129;01min\u001b[39;00m input_dataset]\n",
      "\u001b[1;31mAttributeError\u001b[0m: 'tuple' object has no attribute 'numpy'"
     ]
    }
   ],
   "source": [
    "[x.numpy() for x in input_dataset]"
   ]
  },
  {
   "cell_type": "code",
   "execution_count": null,
   "id": "f5663e51-7daa-47f6-bf8b-d01d873162d7",
   "metadata": {},
   "outputs": [],
   "source": []
  }
 ],
 "metadata": {
  "kernelspec": {
   "display_name": "pytest",
   "language": "python",
   "name": "pytest"
  },
  "language_info": {
   "codemirror_mode": {
    "name": "ipython",
    "version": 3
   },
   "file_extension": ".py",
   "mimetype": "text/x-python",
   "name": "python",
   "nbconvert_exporter": "python",
   "pygments_lexer": "ipython3",
   "version": "3.10.13"
  }
 },
 "nbformat": 4,
 "nbformat_minor": 5
}
