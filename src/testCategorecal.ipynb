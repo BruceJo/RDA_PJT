{
 "cells": [
  {
   "cell_type": "code",
   "execution_count": 106,
   "id": "0218866c-be30-4ea1-ac44-c0418dd4d017",
   "metadata": {},
   "outputs": [],
   "source": [
    "# https://machinelearningmastery.com/how-to-prepare-categorical-data-for-deep-learning-in-python/"
   ]
  },
  {
   "cell_type": "code",
   "execution_count": 108,
   "id": "945ad260-fda4-4d01-81e8-be225fb81f6f",
   "metadata": {},
   "outputs": [],
   "source": [
    "# 유일한 \"올바른\" 접근 방식은 다른 접근 방식보다 더 나은 성능을 발휘하도록 시도하는 접근 방식입니다.\n",
    "# 다양한 접근 방식의 프로토타입을 만들고 특정 데이터와 모델 선택에 가장 적합한 것이 무엇인지 알아보는 것이 좋습니다."
   ]
  },
  {
   "cell_type": "code",
   "execution_count": 109,
   "id": "d4505c7f-df4a-4326-a643-a6491581d83c",
   "metadata": {},
   "outputs": [],
   "source": [
    "# 먼저 Ordinalencoding과 Labelencoding을 사용하여 데이터를 변환한 다음 훈련 세트와 테스트 세트로 분할할 수 있습니까? 미리 감사드립니다\n",
    "# 예. 그러나 이러한 종류의 변환은 데이터가 유출되지 않도록 주의해야 합니다. \n",
    "# 이는 출력을 입력의 일부로 만들지 않고, 전처리 파이프라인을 생성하기 위해 테스트와 훈련 세트를 혼합하지 않는다는 것을 의미합니다. 출력의 힌트가 입력으로 *누출*되어서는 안 됩니다."
   ]
  },
  {
   "cell_type": "code",
   "execution_count": null,
   "id": "66ebd434-e188-421d-a657-07b1063fe3c8",
   "metadata": {},
   "outputs": [],
   "source": []
  },
  {
   "cell_type": "markdown",
   "id": "fd49067b-f8a8-4294-8b57-775e4999d2a9",
   "metadata": {},
   "source": [
    "# 범주형 -> 순서형 임베딩"
   ]
  },
  {
   "cell_type": "code",
   "execution_count": 1,
   "id": "bfc1990c-1feb-4b39-84b5-2709f6dfda16",
   "metadata": {},
   "outputs": [],
   "source": [
    "from pandas import read_csv\n",
    "from sklearn.model_selection import train_test_split\n",
    "from sklearn.preprocessing import LabelEncoder\n",
    "from sklearn.preprocessing import OrdinalEncoder\n",
    "from keras.models import Sequential\n",
    "from keras.layers import Dense"
   ]
  },
  {
   "cell_type": "code",
   "execution_count": 83,
   "id": "535a4ed6-fae3-4f83-b597-3f2fe328c138",
   "metadata": {},
   "outputs": [],
   "source": [
    "# load the dataset\n",
    "def load_dataset(filename):\n",
    "\t# load the dataset as a pandas DataFrame\n",
    "\tdata = read_csv(filename, header=None)\n",
    "\t# retrieve numpy array\n",
    "\tdataset = data.values\n",
    "\t# split into input (X) and output (y) variables\n",
    "\tX = dataset[:, :-1]\n",
    "\ty = dataset[:,-1]\n",
    "\t# format all fields as string\n",
    "\tX = X.astype(str)\n",
    "\t# reshape target to be a 2d array\n",
    "\ty = y.reshape((len(y), 1))\n",
    "\treturn X, y\n",
    "\n",
    "# prepare input data\n",
    "def prepare_inputs(X_train, X_test):\n",
    "\toe = OrdinalEncoder()\n",
    "\toe.fit(X_train)\n",
    "\tX_train_enc = oe.transform(X_train)\n",
    "\tX_test_enc = oe.transform(X_test)\n",
    "\treturn X_train_enc, X_test_enc\n",
    "\n",
    "# prepare target\n",
    "def prepare_targets(y_train, y_test):\n",
    "\tle = LabelEncoder()\n",
    "\tle.fit(y_train)\n",
    "\ty_train_enc = le.transform(y_train)\n",
    "\ty_test_enc = le.transform(y_test)\n",
    "\treturn y_train_enc, y_test_enc"
   ]
  },
  {
   "cell_type": "code",
   "execution_count": 84,
   "id": "47d81ad0-9a23-4bf7-8816-09ecd3ef1fc6",
   "metadata": {},
   "outputs": [
    {
     "name": "stdout",
     "output_type": "stream",
     "text": [
      "Epoch 1/100\n"
     ]
    },
    {
     "name": "stderr",
     "output_type": "stream",
     "text": [
      "C:\\Users\\BruceJo\\anaconda3\\envs\\pytest\\lib\\site-packages\\sklearn\\preprocessing\\_label.py:97: DataConversionWarning: A column-vector y was passed when a 1d array was expected. Please change the shape of y to (n_samples, ), for example using ravel().\n",
      "  y = column_or_1d(y, warn=True)\n",
      "C:\\Users\\BruceJo\\anaconda3\\envs\\pytest\\lib\\site-packages\\sklearn\\preprocessing\\_label.py:132: DataConversionWarning: A column-vector y was passed when a 1d array was expected. Please change the shape of y to (n_samples, ), for example using ravel().\n",
      "  y = column_or_1d(y, dtype=self.classes_.dtype, warn=True)\n",
      "C:\\Users\\BruceJo\\anaconda3\\envs\\pytest\\lib\\site-packages\\sklearn\\preprocessing\\_label.py:132: DataConversionWarning: A column-vector y was passed when a 1d array was expected. Please change the shape of y to (n_samples, ), for example using ravel().\n",
      "  y = column_or_1d(y, dtype=self.classes_.dtype, warn=True)\n"
     ]
    },
    {
     "name": "stdout",
     "output_type": "stream",
     "text": [
      "12/12 - 0s - loss: 0.8367 - accuracy: 0.6597 - 374ms/epoch - 31ms/step\n",
      "Epoch 2/100\n",
      "12/12 - 0s - loss: 0.8089 - accuracy: 0.6387 - 9ms/epoch - 750us/step\n",
      "Epoch 3/100\n",
      "12/12 - 0s - loss: 0.7894 - accuracy: 0.6387 - 10ms/epoch - 833us/step\n",
      "Epoch 4/100\n",
      "12/12 - 0s - loss: 0.7727 - accuracy: 0.6387 - 8ms/epoch - 667us/step\n",
      "Epoch 5/100\n",
      "12/12 - 0s - loss: 0.7588 - accuracy: 0.6440 - 9ms/epoch - 750us/step\n",
      "Epoch 6/100\n",
      "12/12 - 0s - loss: 0.7467 - accuracy: 0.6387 - 9ms/epoch - 750us/step\n",
      "Epoch 7/100\n",
      "12/12 - 0s - loss: 0.7333 - accuracy: 0.6597 - 8ms/epoch - 667us/step\n",
      "Epoch 8/100\n",
      "12/12 - 0s - loss: 0.7207 - accuracy: 0.6649 - 9ms/epoch - 750us/step\n",
      "Epoch 9/100\n",
      "12/12 - 0s - loss: 0.7095 - accuracy: 0.6754 - 9ms/epoch - 750us/step\n",
      "Epoch 10/100\n",
      "12/12 - 0s - loss: 0.6988 - accuracy: 0.6859 - 9ms/epoch - 750us/step\n",
      "Epoch 11/100\n",
      "12/12 - 0s - loss: 0.6877 - accuracy: 0.6859 - 9ms/epoch - 750us/step\n",
      "Epoch 12/100\n",
      "12/12 - 0s - loss: 0.6785 - accuracy: 0.7016 - 9ms/epoch - 750us/step\n",
      "Epoch 13/100\n",
      "12/12 - 0s - loss: 0.6695 - accuracy: 0.7068 - 9ms/epoch - 750us/step\n",
      "Epoch 14/100\n",
      "12/12 - 0s - loss: 0.6641 - accuracy: 0.7016 - 9ms/epoch - 750us/step\n",
      "Epoch 15/100\n",
      "12/12 - 0s - loss: 0.6533 - accuracy: 0.7068 - 9ms/epoch - 750us/step\n",
      "Epoch 16/100\n",
      "12/12 - 0s - loss: 0.6465 - accuracy: 0.7120 - 8ms/epoch - 667us/step\n",
      "Epoch 17/100\n",
      "12/12 - 0s - loss: 0.6398 - accuracy: 0.7068 - 9ms/epoch - 750us/step\n",
      "Epoch 18/100\n",
      "12/12 - 0s - loss: 0.6325 - accuracy: 0.7120 - 8ms/epoch - 667us/step\n",
      "Epoch 19/100\n",
      "12/12 - 0s - loss: 0.6273 - accuracy: 0.7173 - 9ms/epoch - 750us/step\n",
      "Epoch 20/100\n",
      "12/12 - 0s - loss: 0.6221 - accuracy: 0.7173 - 9ms/epoch - 750us/step\n",
      "Epoch 21/100\n",
      "12/12 - 0s - loss: 0.6161 - accuracy: 0.7173 - 9ms/epoch - 750us/step\n",
      "Epoch 22/100\n",
      "12/12 - 0s - loss: 0.6100 - accuracy: 0.7225 - 9ms/epoch - 750us/step\n",
      "Epoch 23/100\n",
      "12/12 - 0s - loss: 0.6056 - accuracy: 0.7173 - 8ms/epoch - 667us/step\n",
      "Epoch 24/100\n",
      "12/12 - 0s - loss: 0.6007 - accuracy: 0.7173 - 9ms/epoch - 750us/step\n",
      "Epoch 25/100\n",
      "12/12 - 0s - loss: 0.5964 - accuracy: 0.7173 - 9ms/epoch - 750us/step\n",
      "Epoch 26/100\n",
      "12/12 - 0s - loss: 0.5919 - accuracy: 0.7173 - 9ms/epoch - 750us/step\n",
      "Epoch 27/100\n",
      "12/12 - 0s - loss: 0.5880 - accuracy: 0.7225 - 9ms/epoch - 750us/step\n",
      "Epoch 28/100\n",
      "12/12 - 0s - loss: 0.5838 - accuracy: 0.7225 - 10ms/epoch - 833us/step\n",
      "Epoch 29/100\n",
      "12/12 - 0s - loss: 0.5809 - accuracy: 0.7225 - 10ms/epoch - 833us/step\n",
      "Epoch 30/100\n",
      "12/12 - 0s - loss: 0.5763 - accuracy: 0.7277 - 9ms/epoch - 750us/step\n",
      "Epoch 31/100\n",
      "12/12 - 0s - loss: 0.5741 - accuracy: 0.7382 - 9ms/epoch - 750us/step\n",
      "Epoch 32/100\n",
      "12/12 - 0s - loss: 0.5704 - accuracy: 0.7382 - 9ms/epoch - 750us/step\n",
      "Epoch 33/100\n",
      "12/12 - 0s - loss: 0.5671 - accuracy: 0.7487 - 9ms/epoch - 750us/step\n",
      "Epoch 34/100\n",
      "12/12 - 0s - loss: 0.5649 - accuracy: 0.7382 - 9ms/epoch - 750us/step\n",
      "Epoch 35/100\n",
      "12/12 - 0s - loss: 0.5620 - accuracy: 0.7487 - 9ms/epoch - 750us/step\n",
      "Epoch 36/100\n",
      "12/12 - 0s - loss: 0.5589 - accuracy: 0.7487 - 9ms/epoch - 750us/step\n",
      "Epoch 37/100\n",
      "12/12 - 0s - loss: 0.5559 - accuracy: 0.7487 - 9ms/epoch - 750us/step\n",
      "Epoch 38/100\n",
      "12/12 - 0s - loss: 0.5548 - accuracy: 0.7539 - 9ms/epoch - 750us/step\n",
      "Epoch 39/100\n",
      "12/12 - 0s - loss: 0.5517 - accuracy: 0.7539 - 8ms/epoch - 667us/step\n",
      "Epoch 40/100\n",
      "12/12 - 0s - loss: 0.5492 - accuracy: 0.7435 - 8ms/epoch - 667us/step\n",
      "Epoch 41/100\n",
      "12/12 - 0s - loss: 0.5468 - accuracy: 0.7435 - 8ms/epoch - 667us/step\n",
      "Epoch 42/100\n",
      "12/12 - 0s - loss: 0.5454 - accuracy: 0.7435 - 9ms/epoch - 750us/step\n",
      "Epoch 43/100\n",
      "12/12 - 0s - loss: 0.5439 - accuracy: 0.7435 - 9ms/epoch - 750us/step\n",
      "Epoch 44/100\n",
      "12/12 - 0s - loss: 0.5410 - accuracy: 0.7435 - 8ms/epoch - 667us/step\n",
      "Epoch 45/100\n",
      "12/12 - 0s - loss: 0.5392 - accuracy: 0.7382 - 8ms/epoch - 667us/step\n",
      "Epoch 46/100\n",
      "12/12 - 0s - loss: 0.5372 - accuracy: 0.7382 - 8ms/epoch - 667us/step\n",
      "Epoch 47/100\n",
      "12/12 - 0s - loss: 0.5367 - accuracy: 0.7330 - 9ms/epoch - 750us/step\n",
      "Epoch 48/100\n",
      "12/12 - 0s - loss: 0.5344 - accuracy: 0.7382 - 9ms/epoch - 750us/step\n",
      "Epoch 49/100\n",
      "12/12 - 0s - loss: 0.5328 - accuracy: 0.7330 - 9ms/epoch - 750us/step\n",
      "Epoch 50/100\n",
      "12/12 - 0s - loss: 0.5311 - accuracy: 0.7330 - 9ms/epoch - 750us/step\n",
      "Epoch 51/100\n",
      "12/12 - 0s - loss: 0.5299 - accuracy: 0.7330 - 9ms/epoch - 750us/step\n",
      "Epoch 52/100\n",
      "12/12 - 0s - loss: 0.5278 - accuracy: 0.7330 - 9ms/epoch - 750us/step\n",
      "Epoch 53/100\n",
      "12/12 - 0s - loss: 0.5266 - accuracy: 0.7330 - 9ms/epoch - 750us/step\n",
      "Epoch 54/100\n",
      "12/12 - 0s - loss: 0.5246 - accuracy: 0.7330 - 9ms/epoch - 750us/step\n",
      "Epoch 55/100\n",
      "12/12 - 0s - loss: 0.5236 - accuracy: 0.7330 - 9ms/epoch - 750us/step\n",
      "Epoch 56/100\n",
      "12/12 - 0s - loss: 0.5223 - accuracy: 0.7330 - 8ms/epoch - 667us/step\n",
      "Epoch 57/100\n",
      "12/12 - 0s - loss: 0.5214 - accuracy: 0.7330 - 9ms/epoch - 750us/step\n",
      "Epoch 58/100\n",
      "12/12 - 0s - loss: 0.5202 - accuracy: 0.7330 - 8ms/epoch - 667us/step\n",
      "Epoch 59/100\n",
      "12/12 - 0s - loss: 0.5188 - accuracy: 0.7330 - 8ms/epoch - 667us/step\n",
      "Epoch 60/100\n",
      "12/12 - 0s - loss: 0.5177 - accuracy: 0.7382 - 8ms/epoch - 667us/step\n",
      "Epoch 61/100\n",
      "12/12 - 0s - loss: 0.5178 - accuracy: 0.7382 - 9ms/epoch - 750us/step\n",
      "Epoch 62/100\n",
      "12/12 - 0s - loss: 0.5161 - accuracy: 0.7382 - 10ms/epoch - 833us/step\n",
      "Epoch 63/100\n",
      "12/12 - 0s - loss: 0.5173 - accuracy: 0.7382 - 11ms/epoch - 917us/step\n",
      "Epoch 64/100\n",
      "12/12 - 0s - loss: 0.5140 - accuracy: 0.7277 - 8ms/epoch - 667us/step\n",
      "Epoch 65/100\n",
      "12/12 - 0s - loss: 0.5135 - accuracy: 0.7382 - 9ms/epoch - 750us/step\n",
      "Epoch 66/100\n",
      "12/12 - 0s - loss: 0.5124 - accuracy: 0.7382 - 9ms/epoch - 750us/step\n",
      "Epoch 67/100\n",
      "12/12 - 0s - loss: 0.5109 - accuracy: 0.7382 - 9ms/epoch - 750us/step\n",
      "Epoch 68/100\n",
      "12/12 - 0s - loss: 0.5106 - accuracy: 0.7382 - 9ms/epoch - 750us/step\n",
      "Epoch 69/100\n",
      "12/12 - 0s - loss: 0.5093 - accuracy: 0.7382 - 9ms/epoch - 750us/step\n",
      "Epoch 70/100\n",
      "12/12 - 0s - loss: 0.5104 - accuracy: 0.7382 - 9ms/epoch - 750us/step\n",
      "Epoch 71/100\n",
      "12/12 - 0s - loss: 0.5096 - accuracy: 0.7435 - 9ms/epoch - 750us/step\n",
      "Epoch 72/100\n",
      "12/12 - 0s - loss: 0.5079 - accuracy: 0.7382 - 9ms/epoch - 750us/step\n",
      "Epoch 73/100\n",
      "12/12 - 0s - loss: 0.5065 - accuracy: 0.7435 - 8ms/epoch - 667us/step\n",
      "Epoch 74/100\n",
      "12/12 - 0s - loss: 0.5063 - accuracy: 0.7435 - 9ms/epoch - 750us/step\n",
      "Epoch 75/100\n",
      "12/12 - 0s - loss: 0.5057 - accuracy: 0.7435 - 8ms/epoch - 667us/step\n",
      "Epoch 76/100\n",
      "12/12 - 0s - loss: 0.5051 - accuracy: 0.7382 - 9ms/epoch - 750us/step\n",
      "Epoch 77/100\n",
      "12/12 - 0s - loss: 0.5041 - accuracy: 0.7435 - 9ms/epoch - 750us/step\n",
      "Epoch 78/100\n",
      "12/12 - 0s - loss: 0.5036 - accuracy: 0.7435 - 9ms/epoch - 750us/step\n",
      "Epoch 79/100\n",
      "12/12 - 0s - loss: 0.5030 - accuracy: 0.7435 - 9ms/epoch - 750us/step\n",
      "Epoch 80/100\n",
      "12/12 - 0s - loss: 0.5020 - accuracy: 0.7435 - 9ms/epoch - 750us/step\n",
      "Epoch 81/100\n",
      "12/12 - 0s - loss: 0.5009 - accuracy: 0.7435 - 9ms/epoch - 750us/step\n",
      "Epoch 82/100\n",
      "12/12 - 0s - loss: 0.5007 - accuracy: 0.7435 - 8ms/epoch - 667us/step\n",
      "Epoch 83/100\n",
      "12/12 - 0s - loss: 0.5009 - accuracy: 0.7435 - 8ms/epoch - 667us/step\n",
      "Epoch 84/100\n",
      "12/12 - 0s - loss: 0.4995 - accuracy: 0.7435 - 8ms/epoch - 667us/step\n",
      "Epoch 85/100\n",
      "12/12 - 0s - loss: 0.4991 - accuracy: 0.7435 - 9ms/epoch - 750us/step\n",
      "Epoch 86/100\n",
      "12/12 - 0s - loss: 0.4987 - accuracy: 0.7435 - 9ms/epoch - 750us/step\n",
      "Epoch 87/100\n",
      "12/12 - 0s - loss: 0.4987 - accuracy: 0.7487 - 9ms/epoch - 750us/step\n",
      "Epoch 88/100\n",
      "12/12 - 0s - loss: 0.4971 - accuracy: 0.7435 - 8ms/epoch - 667us/step\n",
      "Epoch 89/100\n",
      "12/12 - 0s - loss: 0.4973 - accuracy: 0.7435 - 8ms/epoch - 667us/step\n",
      "Epoch 90/100\n",
      "12/12 - 0s - loss: 0.4964 - accuracy: 0.7487 - 8ms/epoch - 667us/step\n",
      "Epoch 91/100\n",
      "12/12 - 0s - loss: 0.4962 - accuracy: 0.7487 - 8ms/epoch - 667us/step\n",
      "Epoch 92/100\n",
      "12/12 - 0s - loss: 0.4957 - accuracy: 0.7487 - 9ms/epoch - 750us/step\n",
      "Epoch 93/100\n",
      "12/12 - 0s - loss: 0.4954 - accuracy: 0.7539 - 8ms/epoch - 667us/step\n",
      "Epoch 94/100\n",
      "12/12 - 0s - loss: 0.4945 - accuracy: 0.7539 - 8ms/epoch - 667us/step\n",
      "Epoch 95/100\n",
      "12/12 - 0s - loss: 0.4946 - accuracy: 0.7435 - 8ms/epoch - 667us/step\n",
      "Epoch 96/100\n",
      "12/12 - 0s - loss: 0.4937 - accuracy: 0.7539 - 8ms/epoch - 667us/step\n",
      "Epoch 97/100\n",
      "12/12 - 0s - loss: 0.4933 - accuracy: 0.7539 - 9ms/epoch - 750us/step\n",
      "Epoch 98/100\n",
      "12/12 - 0s - loss: 0.4945 - accuracy: 0.7539 - 8ms/epoch - 667us/step\n",
      "Epoch 99/100\n",
      "12/12 - 0s - loss: 0.4921 - accuracy: 0.7539 - 9ms/epoch - 750us/step\n",
      "Epoch 100/100\n",
      "12/12 - 0s - loss: 0.4914 - accuracy: 0.7539 - 9ms/epoch - 750us/step\n",
      "Accuracy: 70.53\n"
     ]
    }
   ],
   "source": [
    "# load the dataset\n",
    "X, y = load_dataset('breast-cancer.csv')\n",
    "# split into train and test sets\n",
    "X_train, X_test, y_train, y_test = train_test_split(X, y, test_size=0.33, random_state=1)\n",
    "# prepare input data\n",
    "X_train_enc, X_test_enc = prepare_inputs(X_train, X_test)\n",
    "# prepare output data\n",
    "y_train_enc, y_test_enc = prepare_targets(y_train, y_test)\n",
    "# define the  model\n",
    "model = Sequential()\n",
    "model.add(Dense(10, input_dim=X_train_enc.shape[1], activation='relu', kernel_initializer='he_normal'))\n",
    "model.add(Dense(1, activation='sigmoid'))\n",
    "# compile the keras model\n",
    "model.compile(loss='binary_crossentropy', optimizer='adam', metrics=['accuracy'])\n",
    "# fit the keras model on the dataset\n",
    "model.fit(X_train_enc, y_train_enc, epochs=100, batch_size=16, verbose=2)\n",
    "# evaluate the keras model\n",
    "_, accuracy = model.evaluate(X_test_enc, y_test_enc, verbose=0)\n",
    "print('Accuracy: %.2f' % (accuracy*100))"
   ]
  },
  {
   "cell_type": "code",
   "execution_count": 10,
   "id": "f72f36e2-6215-41e9-b114-f56580210cf0",
   "metadata": {},
   "outputs": [
    {
     "data": {
      "text/plain": [
       "array([\"'50-59'\", \"'ge40'\", \"'25-29'\", \"'0-2'\", \"'no'\", \"'1'\", \"'left'\",\n",
       "       \"'right_low'\", \"'no'\"], dtype='<U11')"
      ]
     },
     "execution_count": 10,
     "metadata": {},
     "output_type": "execute_result"
    }
   ],
   "source": [
    "X_train[0]"
   ]
  },
  {
   "cell_type": "code",
   "execution_count": 87,
   "id": "57a068e3-6e98-44fe-98db-9e608b6fa52c",
   "metadata": {},
   "outputs": [
    {
     "data": {
      "text/plain": [
       "array([3., 0., 4., 0., 0., 0., 0., 3., 0.])"
      ]
     },
     "execution_count": 87,
     "metadata": {},
     "output_type": "execute_result"
    }
   ],
   "source": [
    "X_train_enc[0]"
   ]
  },
  {
   "cell_type": "markdown",
   "id": "7b42b386-90b1-4f71-a83a-b821762321e9",
   "metadata": {},
   "source": [
    "# 범주형 -> 원핫인코딩"
   ]
  },
  {
   "cell_type": "code",
   "execution_count": 1,
   "id": "1a18e287-55fd-44d4-994d-84c5dffc164f",
   "metadata": {},
   "outputs": [],
   "source": [
    "# example of one hot encoding for a neural network\n",
    "from pandas import read_csv\n",
    "from sklearn.model_selection import train_test_split\n",
    "from sklearn.preprocessing import LabelEncoder\n",
    "from sklearn.preprocessing import OneHotEncoder\n",
    "from keras.models import Sequential\n",
    "from keras.layers import Dense"
   ]
  },
  {
   "cell_type": "code",
   "execution_count": 2,
   "id": "bdc00146-7407-4135-aba2-3fe9ddf344b6",
   "metadata": {},
   "outputs": [],
   "source": [
    "# load the dataset\n",
    "def load_dataset(filename):\n",
    "\t# load the dataset as a pandas DataFrame\n",
    "\tdata = read_csv(filename, header=None)\n",
    "\t# retrieve numpy array\n",
    "\tdataset = data.values\n",
    "\t# split into input (X) and output (y) variables\n",
    "\tX = dataset[:, :-1]\n",
    "\ty = dataset[:,-1]\n",
    "\t# format all fields as string\n",
    "\tX = X.astype(str)\n",
    "\t# reshape target to be a 2d array\n",
    "\ty = y.reshape((len(y), 1))\n",
    "\treturn X, y\n",
    "\n",
    "# prepare input data\n",
    "def prepare_inputs(X_train, X_test):\n",
    "\tohe = OneHotEncoder()\n",
    "\tohe.fit(X_train)\n",
    "\tX_train_enc = ohe.transform(X_train)\n",
    "\tX_test_enc = ohe.transform(X_test)\n",
    "\treturn X_train_enc, X_test_enc\n",
    "\n",
    "# prepare target\n",
    "def prepare_targets(y_train, y_test):\n",
    "\tle = LabelEncoder()\n",
    "\tle.fit(y_train)\n",
    "\ty_train_enc = le.transform(y_train)\n",
    "\ty_test_enc = le.transform(y_test)\n",
    "\treturn y_train_enc, y_test_enc"
   ]
  },
  {
   "cell_type": "code",
   "execution_count": 4,
   "id": "9aa4765d-fd3c-485a-a6fa-911229c58641",
   "metadata": {},
   "outputs": [
    {
     "name": "stdout",
     "output_type": "stream",
     "text": [
      "Epoch 1/100\n"
     ]
    },
    {
     "name": "stderr",
     "output_type": "stream",
     "text": [
      "C:\\Users\\BruceJo\\anaconda3\\envs\\pytest\\lib\\site-packages\\sklearn\\preprocessing\\_label.py:97: DataConversionWarning: A column-vector y was passed when a 1d array was expected. Please change the shape of y to (n_samples, ), for example using ravel().\n",
      "  y = column_or_1d(y, warn=True)\n",
      "C:\\Users\\BruceJo\\anaconda3\\envs\\pytest\\lib\\site-packages\\sklearn\\preprocessing\\_label.py:132: DataConversionWarning: A column-vector y was passed when a 1d array was expected. Please change the shape of y to (n_samples, ), for example using ravel().\n",
      "  y = column_or_1d(y, dtype=self.classes_.dtype, warn=True)\n",
      "C:\\Users\\BruceJo\\anaconda3\\envs\\pytest\\lib\\site-packages\\sklearn\\preprocessing\\_label.py:132: DataConversionWarning: A column-vector y was passed when a 1d array was expected. Please change the shape of y to (n_samples, ), for example using ravel().\n",
      "  y = column_or_1d(y, dtype=self.classes_.dtype, warn=True)\n"
     ]
    },
    {
     "name": "stdout",
     "output_type": "stream",
     "text": [
      "12/12 - 0s - loss: 0.7224 - accuracy: 0.4764 - 307ms/epoch - 26ms/step\n",
      "Epoch 2/100\n",
      "12/12 - 0s - loss: 0.6772 - accuracy: 0.5445 - 11ms/epoch - 917us/step\n",
      "Epoch 3/100\n",
      "12/12 - 0s - loss: 0.6419 - accuracy: 0.6126 - 8ms/epoch - 667us/step\n",
      "Epoch 4/100\n",
      "12/12 - 0s - loss: 0.6194 - accuracy: 0.6545 - 9ms/epoch - 750us/step\n",
      "Epoch 5/100\n",
      "12/12 - 0s - loss: 0.6000 - accuracy: 0.7068 - 9ms/epoch - 750us/step\n",
      "Epoch 6/100\n",
      "12/12 - 0s - loss: 0.5891 - accuracy: 0.7330 - 9ms/epoch - 750us/step\n",
      "Epoch 7/100\n",
      "12/12 - 0s - loss: 0.5780 - accuracy: 0.7382 - 8ms/epoch - 667us/step\n",
      "Epoch 8/100\n",
      "12/12 - 0s - loss: 0.5708 - accuracy: 0.7330 - 8ms/epoch - 667us/step\n",
      "Epoch 9/100\n",
      "12/12 - 0s - loss: 0.5642 - accuracy: 0.7330 - 10ms/epoch - 833us/step\n",
      "Epoch 10/100\n",
      "12/12 - 0s - loss: 0.5583 - accuracy: 0.7330 - 8ms/epoch - 667us/step\n",
      "Epoch 11/100\n",
      "12/12 - 0s - loss: 0.5531 - accuracy: 0.7330 - 9ms/epoch - 750us/step\n",
      "Epoch 12/100\n",
      "12/12 - 0s - loss: 0.5487 - accuracy: 0.7382 - 8ms/epoch - 667us/step\n",
      "Epoch 13/100\n",
      "12/12 - 0s - loss: 0.5437 - accuracy: 0.7435 - 9ms/epoch - 750us/step\n",
      "Epoch 14/100\n",
      "12/12 - 0s - loss: 0.5404 - accuracy: 0.7435 - 8ms/epoch - 667us/step\n",
      "Epoch 15/100\n",
      "12/12 - 0s - loss: 0.5358 - accuracy: 0.7487 - 8ms/epoch - 666us/step\n",
      "Epoch 16/100\n",
      "12/12 - 0s - loss: 0.5315 - accuracy: 0.7487 - 9ms/epoch - 750us/step\n",
      "Epoch 17/100\n",
      "12/12 - 0s - loss: 0.5279 - accuracy: 0.7487 - 8ms/epoch - 666us/step\n",
      "Epoch 18/100\n",
      "12/12 - 0s - loss: 0.5247 - accuracy: 0.7539 - 8ms/epoch - 667us/step\n",
      "Epoch 19/100\n",
      "12/12 - 0s - loss: 0.5207 - accuracy: 0.7592 - 8ms/epoch - 667us/step\n",
      "Epoch 20/100\n",
      "12/12 - 0s - loss: 0.5171 - accuracy: 0.7592 - 8ms/epoch - 667us/step\n",
      "Epoch 21/100\n",
      "12/12 - 0s - loss: 0.5147 - accuracy: 0.7592 - 8ms/epoch - 667us/step\n",
      "Epoch 22/100\n",
      "12/12 - 0s - loss: 0.5106 - accuracy: 0.7592 - 8ms/epoch - 667us/step\n",
      "Epoch 23/100\n",
      "12/12 - 0s - loss: 0.5075 - accuracy: 0.7592 - 8ms/epoch - 667us/step\n",
      "Epoch 24/100\n",
      "12/12 - 0s - loss: 0.5045 - accuracy: 0.7592 - 7ms/epoch - 583us/step\n",
      "Epoch 25/100\n",
      "12/12 - 0s - loss: 0.5015 - accuracy: 0.7749 - 7ms/epoch - 583us/step\n",
      "Epoch 26/100\n",
      "12/12 - 0s - loss: 0.4988 - accuracy: 0.7749 - 7ms/epoch - 583us/step\n",
      "Epoch 27/100\n",
      "12/12 - 0s - loss: 0.4959 - accuracy: 0.7696 - 8ms/epoch - 667us/step\n",
      "Epoch 28/100\n",
      "12/12 - 0s - loss: 0.4931 - accuracy: 0.7696 - 8ms/epoch - 667us/step\n",
      "Epoch 29/100\n",
      "12/12 - 0s - loss: 0.4905 - accuracy: 0.7749 - 7ms/epoch - 583us/step\n",
      "Epoch 30/100\n",
      "12/12 - 0s - loss: 0.4880 - accuracy: 0.7749 - 8ms/epoch - 667us/step\n",
      "Epoch 31/100\n",
      "12/12 - 0s - loss: 0.4858 - accuracy: 0.7749 - 7ms/epoch - 583us/step\n",
      "Epoch 32/100\n",
      "12/12 - 0s - loss: 0.4828 - accuracy: 0.7749 - 7ms/epoch - 583us/step\n",
      "Epoch 33/100\n",
      "12/12 - 0s - loss: 0.4803 - accuracy: 0.7749 - 7ms/epoch - 583us/step\n",
      "Epoch 34/100\n",
      "12/12 - 0s - loss: 0.4774 - accuracy: 0.7749 - 6ms/epoch - 500us/step\n",
      "Epoch 35/100\n",
      "12/12 - 0s - loss: 0.4751 - accuracy: 0.7801 - 7ms/epoch - 583us/step\n",
      "Epoch 36/100\n",
      "12/12 - 0s - loss: 0.4726 - accuracy: 0.7906 - 12ms/epoch - 1ms/step\n",
      "Epoch 37/100\n",
      "12/12 - 0s - loss: 0.4699 - accuracy: 0.7906 - 11ms/epoch - 917us/step\n",
      "Epoch 38/100\n",
      "12/12 - 0s - loss: 0.4675 - accuracy: 0.7958 - 8ms/epoch - 667us/step\n",
      "Epoch 39/100\n",
      "12/12 - 0s - loss: 0.4647 - accuracy: 0.7958 - 8ms/epoch - 667us/step\n",
      "Epoch 40/100\n",
      "12/12 - 0s - loss: 0.4621 - accuracy: 0.7958 - 8ms/epoch - 667us/step\n",
      "Epoch 41/100\n",
      "12/12 - 0s - loss: 0.4598 - accuracy: 0.7958 - 8ms/epoch - 667us/step\n",
      "Epoch 42/100\n",
      "12/12 - 0s - loss: 0.4579 - accuracy: 0.7958 - 7ms/epoch - 583us/step\n",
      "Epoch 43/100\n",
      "12/12 - 0s - loss: 0.4552 - accuracy: 0.8010 - 7ms/epoch - 583us/step\n",
      "Epoch 44/100\n",
      "12/12 - 0s - loss: 0.4535 - accuracy: 0.8115 - 8ms/epoch - 667us/step\n",
      "Epoch 45/100\n",
      "12/12 - 0s - loss: 0.4511 - accuracy: 0.8115 - 7ms/epoch - 583us/step\n",
      "Epoch 46/100\n",
      "12/12 - 0s - loss: 0.4489 - accuracy: 0.8115 - 8ms/epoch - 667us/step\n",
      "Epoch 47/100\n",
      "12/12 - 0s - loss: 0.4468 - accuracy: 0.8115 - 8ms/epoch - 667us/step\n",
      "Epoch 48/100\n",
      "12/12 - 0s - loss: 0.4445 - accuracy: 0.8115 - 8ms/epoch - 666us/step\n",
      "Epoch 49/100\n",
      "12/12 - 0s - loss: 0.4424 - accuracy: 0.8115 - 7ms/epoch - 583us/step\n",
      "Epoch 50/100\n",
      "12/12 - 0s - loss: 0.4408 - accuracy: 0.8115 - 8ms/epoch - 667us/step\n",
      "Epoch 51/100\n",
      "12/12 - 0s - loss: 0.4385 - accuracy: 0.8063 - 9ms/epoch - 750us/step\n",
      "Epoch 52/100\n",
      "12/12 - 0s - loss: 0.4366 - accuracy: 0.8063 - 7ms/epoch - 583us/step\n",
      "Epoch 53/100\n",
      "12/12 - 0s - loss: 0.4345 - accuracy: 0.8063 - 7ms/epoch - 583us/step\n",
      "Epoch 54/100\n",
      "12/12 - 0s - loss: 0.4325 - accuracy: 0.8063 - 7ms/epoch - 583us/step\n",
      "Epoch 55/100\n",
      "12/12 - 0s - loss: 0.4308 - accuracy: 0.8063 - 7ms/epoch - 583us/step\n",
      "Epoch 56/100\n",
      "12/12 - 0s - loss: 0.4288 - accuracy: 0.8063 - 8ms/epoch - 667us/step\n",
      "Epoch 57/100\n",
      "12/12 - 0s - loss: 0.4270 - accuracy: 0.8115 - 7ms/epoch - 583us/step\n",
      "Epoch 58/100\n",
      "12/12 - 0s - loss: 0.4254 - accuracy: 0.8115 - 7ms/epoch - 583us/step\n",
      "Epoch 59/100\n",
      "12/12 - 0s - loss: 0.4233 - accuracy: 0.8115 - 7ms/epoch - 583us/step\n",
      "Epoch 60/100\n",
      "12/12 - 0s - loss: 0.4216 - accuracy: 0.8115 - 6ms/epoch - 500us/step\n",
      "Epoch 61/100\n",
      "12/12 - 0s - loss: 0.4195 - accuracy: 0.8115 - 7ms/epoch - 583us/step\n",
      "Epoch 62/100\n",
      "12/12 - 0s - loss: 0.4197 - accuracy: 0.8220 - 7ms/epoch - 583us/step\n",
      "Epoch 63/100\n",
      "12/12 - 0s - loss: 0.4166 - accuracy: 0.8272 - 7ms/epoch - 583us/step\n",
      "Epoch 64/100\n",
      "12/12 - 0s - loss: 0.4146 - accuracy: 0.8220 - 7ms/epoch - 583us/step\n",
      "Epoch 65/100\n",
      "12/12 - 0s - loss: 0.4130 - accuracy: 0.8272 - 7ms/epoch - 583us/step\n",
      "Epoch 66/100\n",
      "12/12 - 0s - loss: 0.4110 - accuracy: 0.8272 - 8ms/epoch - 667us/step\n",
      "Epoch 67/100\n",
      "12/12 - 0s - loss: 0.4093 - accuracy: 0.8272 - 7ms/epoch - 583us/step\n",
      "Epoch 68/100\n",
      "12/12 - 0s - loss: 0.4081 - accuracy: 0.8377 - 6ms/epoch - 500us/step\n",
      "Epoch 69/100\n",
      "12/12 - 0s - loss: 0.4065 - accuracy: 0.8377 - 7ms/epoch - 583us/step\n",
      "Epoch 70/100\n",
      "12/12 - 0s - loss: 0.4041 - accuracy: 0.8272 - 7ms/epoch - 583us/step\n",
      "Epoch 71/100\n",
      "12/12 - 0s - loss: 0.4027 - accuracy: 0.8325 - 7ms/epoch - 583us/step\n",
      "Epoch 72/100\n",
      "12/12 - 0s - loss: 0.4011 - accuracy: 0.8325 - 9ms/epoch - 750us/step\n",
      "Epoch 73/100\n",
      "12/12 - 0s - loss: 0.3994 - accuracy: 0.8377 - 7ms/epoch - 583us/step\n",
      "Epoch 74/100\n",
      "12/12 - 0s - loss: 0.3977 - accuracy: 0.8377 - 7ms/epoch - 583us/step\n",
      "Epoch 75/100\n",
      "12/12 - 0s - loss: 0.3962 - accuracy: 0.8377 - 7ms/epoch - 583us/step\n",
      "Epoch 76/100\n",
      "12/12 - 0s - loss: 0.3943 - accuracy: 0.8429 - 7ms/epoch - 583us/step\n",
      "Epoch 77/100\n",
      "12/12 - 0s - loss: 0.3930 - accuracy: 0.8377 - 7ms/epoch - 583us/step\n",
      "Epoch 78/100\n",
      "12/12 - 0s - loss: 0.3913 - accuracy: 0.8429 - 7ms/epoch - 583us/step\n",
      "Epoch 79/100\n",
      "12/12 - 0s - loss: 0.3897 - accuracy: 0.8429 - 7ms/epoch - 583us/step\n",
      "Epoch 80/100\n",
      "12/12 - 0s - loss: 0.3880 - accuracy: 0.8429 - 7ms/epoch - 583us/step\n",
      "Epoch 81/100\n",
      "12/12 - 0s - loss: 0.3865 - accuracy: 0.8482 - 8ms/epoch - 667us/step\n",
      "Epoch 82/100\n",
      "12/12 - 0s - loss: 0.3848 - accuracy: 0.8482 - 8ms/epoch - 667us/step\n",
      "Epoch 83/100\n",
      "12/12 - 0s - loss: 0.3832 - accuracy: 0.8482 - 7ms/epoch - 583us/step\n",
      "Epoch 84/100\n",
      "12/12 - 0s - loss: 0.3819 - accuracy: 0.8534 - 7ms/epoch - 583us/step\n",
      "Epoch 85/100\n",
      "12/12 - 0s - loss: 0.3798 - accuracy: 0.8586 - 8ms/epoch - 667us/step\n",
      "Epoch 86/100\n",
      "12/12 - 0s - loss: 0.3786 - accuracy: 0.8534 - 7ms/epoch - 583us/step\n",
      "Epoch 87/100\n",
      "12/12 - 0s - loss: 0.3768 - accuracy: 0.8534 - 7ms/epoch - 583us/step\n",
      "Epoch 88/100\n",
      "12/12 - 0s - loss: 0.3749 - accuracy: 0.8639 - 8ms/epoch - 667us/step\n",
      "Epoch 89/100\n",
      "12/12 - 0s - loss: 0.3734 - accuracy: 0.8639 - 7ms/epoch - 583us/step\n",
      "Epoch 90/100\n",
      "12/12 - 0s - loss: 0.3718 - accuracy: 0.8639 - 8ms/epoch - 667us/step\n",
      "Epoch 91/100\n",
      "12/12 - 0s - loss: 0.3711 - accuracy: 0.8639 - 8ms/epoch - 667us/step\n",
      "Epoch 92/100\n",
      "12/12 - 0s - loss: 0.3687 - accuracy: 0.8639 - 8ms/epoch - 667us/step\n",
      "Epoch 93/100\n",
      "12/12 - 0s - loss: 0.3675 - accuracy: 0.8639 - 8ms/epoch - 667us/step\n",
      "Epoch 94/100\n",
      "12/12 - 0s - loss: 0.3657 - accuracy: 0.8691 - 7ms/epoch - 583us/step\n",
      "Epoch 95/100\n",
      "12/12 - 0s - loss: 0.3641 - accuracy: 0.8691 - 8ms/epoch - 667us/step\n",
      "Epoch 96/100\n",
      "12/12 - 0s - loss: 0.3623 - accuracy: 0.8691 - 9ms/epoch - 750us/step\n",
      "Epoch 97/100\n",
      "12/12 - 0s - loss: 0.3610 - accuracy: 0.8691 - 9ms/epoch - 750us/step\n",
      "Epoch 98/100\n",
      "12/12 - 0s - loss: 0.3603 - accuracy: 0.8691 - 8ms/epoch - 667us/step\n",
      "Epoch 99/100\n",
      "12/12 - 0s - loss: 0.3580 - accuracy: 0.8691 - 8ms/epoch - 667us/step\n",
      "Epoch 100/100\n",
      "12/12 - 0s - loss: 0.3565 - accuracy: 0.8691 - 12ms/epoch - 1000us/step\n",
      "Accuracy: 71.58\n"
     ]
    }
   ],
   "source": [
    "# load the dataset\n",
    "X, y = load_dataset('breast-cancer.csv')\n",
    "# split into train and test sets\n",
    "X_train, X_test, y_train, y_test = train_test_split(X, y, test_size=0.33, random_state=1)\n",
    "# prepare input data\n",
    "X_train_enc, X_test_enc = prepare_inputs(X_train, X_test)\n",
    "# prepare output data\n",
    "y_train_enc, y_test_enc = prepare_targets(y_train, y_test)\n",
    "# define the  model\n",
    "model = Sequential()\n",
    "model.add(Dense(10, input_dim=X_train_enc.shape[1], activation='relu', kernel_initializer='he_normal'))\n",
    "model.add(Dense(1, activation='sigmoid'))\n",
    "# compile the keras model\n",
    "model.compile(loss='binary_crossentropy', optimizer='adam', metrics=['accuracy'])\n",
    "# fit the keras model on the dataset\n",
    "model.fit(X_train_enc, y_train_enc, epochs=100, batch_size=16, verbose=2)\n",
    "# evaluate the keras model\n",
    "_, accuracy = model.evaluate(X_test_enc, y_test_enc, verbose=0)\n",
    "print('Accuracy: %.2f' % (accuracy*100))"
   ]
  },
  {
   "cell_type": "code",
   "execution_count": 5,
   "id": "7bb47077-8dc8-4fbe-907c-a0a884f33a1c",
   "metadata": {},
   "outputs": [
    {
     "data": {
      "text/plain": [
       "array([[\"'50-59'\", \"'ge40'\", \"'25-29'\", ..., \"'left'\", \"'right_low'\",\n",
       "        \"'no'\"],\n",
       "       [\"'30-39'\", \"'premeno'\", \"'5-9'\", ..., \"'left'\", \"'right_low'\",\n",
       "        \"'no'\"],\n",
       "       [\"'50-59'\", \"'premeno'\", \"'50-54'\", ..., \"'right'\", \"'left_up'\",\n",
       "        \"'yes'\"],\n",
       "       ...,\n",
       "       [\"'60-69'\", \"'ge40'\", \"'10-14'\", ..., \"'right'\", \"'left_low'\",\n",
       "        \"'no'\"],\n",
       "       [\"'60-69'\", \"'ge40'\", \"'40-44'\", ..., \"'right'\", \"'left_low'\",\n",
       "        \"'no'\"],\n",
       "       [\"'60-69'\", \"'ge40'\", \"'45-49'\", ..., \"'left'\", \"'central'\",\n",
       "        \"'no'\"]], dtype='<U11')"
      ]
     },
     "execution_count": 5,
     "metadata": {},
     "output_type": "execute_result"
    }
   ],
   "source": [
    "X_train"
   ]
  },
  {
   "cell_type": "code",
   "execution_count": 103,
   "id": "a5688805-bf63-499b-ad43-073c6b7244d0",
   "metadata": {},
   "outputs": [],
   "source": [
    "# ohe = OneHotEncoder()\n",
    "# ohe.fit(X_train)"
   ]
  },
  {
   "cell_type": "code",
   "execution_count": 104,
   "id": "4f34c534-f0a7-41ad-87e5-2a738ea096d8",
   "metadata": {},
   "outputs": [
    {
     "data": {
      "text/plain": [
       "array([\"'50-59'\", \"'ge40'\", \"'25-29'\", \"'0-2'\", \"'no'\", \"'1'\", \"'left'\",\n",
       "       \"'right_low'\", \"'no'\"], dtype='<U11')"
      ]
     },
     "execution_count": 104,
     "metadata": {},
     "output_type": "execute_result"
    }
   ],
   "source": [
    "X_train[0]"
   ]
  },
  {
   "cell_type": "code",
   "execution_count": 78,
   "id": "0bac2755-d75a-4d71-8b25-be0f20a1b9ee",
   "metadata": {},
   "outputs": [
    {
     "data": {
      "text/plain": [
       "array([\"x0_'20-29'\", \"x0_'30-39'\", \"x0_'40-49'\", \"x0_'50-59'\",\n",
       "       \"x0_'60-69'\", \"x0_'70-79'\", \"x1_'ge40'\", \"x1_'lt40'\",\n",
       "       \"x1_'premeno'\", \"x2_'0-4'\", \"x2_'10-14'\", \"x2_'15-19'\",\n",
       "       \"x2_'20-24'\", \"x2_'25-29'\", \"x2_'30-34'\", \"x2_'35-39'\",\n",
       "       \"x2_'40-44'\", \"x2_'45-49'\", \"x2_'5-9'\", \"x2_'50-54'\", \"x3_'0-2'\",\n",
       "       \"x3_'12-14'\", \"x3_'15-17'\", \"x3_'24-26'\", \"x3_'3-5'\", \"x3_'6-8'\",\n",
       "       \"x3_'9-11'\", \"x4_'no'\", \"x4_'yes'\", 'x4_nan', \"x5_'1'\", \"x5_'2'\",\n",
       "       \"x5_'3'\", \"x6_'left'\", \"x6_'right'\", \"x7_'central'\",\n",
       "       \"x7_'left_low'\", \"x7_'left_up'\", \"x7_'right_low'\", \"x7_'right_up'\",\n",
       "       'x7_nan', \"x8_'no'\", \"x8_'yes'\"], dtype=object)"
      ]
     },
     "execution_count": 78,
     "metadata": {},
     "output_type": "execute_result"
    }
   ],
   "source": [
    "ohe.get_feature_names_out()"
   ]
  },
  {
   "cell_type": "code",
   "execution_count": 79,
   "id": "edf3e6a2-bd75-416d-b417-96f8cd0c9e79",
   "metadata": {},
   "outputs": [
    {
     "name": "stdout",
     "output_type": "stream",
     "text": [
      "[[0. 0. 0. 1. 0. 0. 1. 0. 0. 0. 0. 0. 0. 1. 0. 0. 0. 0. 0. 0. 1. 0. 0. 0.\n",
      "  0. 0. 0. 1. 0. 0. 1. 0. 0. 1. 0. 0. 0. 0. 1. 0. 0. 1. 0.]]\n"
     ]
    }
   ],
   "source": [
    "print(X_train_enc[0].toarray())"
   ]
  },
  {
   "cell_type": "code",
   "execution_count": 81,
   "id": "4d5c28d3-992b-4f95-a8d6-7b654ea8391b",
   "metadata": {},
   "outputs": [
    {
     "name": "stdout",
     "output_type": "stream",
     "text": [
      "  (0, 3)\t1.0\n",
      "  (0, 6)\t1.0\n",
      "  (0, 13)\t1.0\n",
      "  (0, 20)\t1.0\n",
      "  (0, 27)\t1.0\n",
      "  (0, 30)\t1.0\n",
      "  (0, 33)\t1.0\n",
      "  (0, 38)\t1.0\n",
      "  (0, 41)\t1.0\n"
     ]
    }
   ],
   "source": [
    "print(X_train_enc[0])"
   ]
  },
  {
   "cell_type": "code",
   "execution_count": 105,
   "id": "95135344-dc21-4833-a59b-f44a2a1221de",
   "metadata": {},
   "outputs": [
    {
     "data": {
      "text/plain": [
       "array([[\"'50-59'\", \"'ge40'\", \"'25-29'\", \"'0-2'\", \"'no'\", \"'1'\", \"'left'\",\n",
       "        \"'right_low'\", \"'no'\"]], dtype='<U11')"
      ]
     },
     "execution_count": 105,
     "metadata": {},
     "output_type": "execute_result"
    }
   ],
   "source": [
    "ohe.inverse_transform(X_train_enc[0])"
   ]
  },
  {
   "cell_type": "markdown",
   "id": "a5be320e-9cb2-4af5-9a55-36a77d9822af",
   "metadata": {},
   "source": [
    "# 범주형 단어 임베딩"
   ]
  },
  {
   "cell_type": "code",
   "execution_count": 65,
   "id": "32b49b3d-106d-4553-b779-7174c38292fa",
   "metadata": {},
   "outputs": [],
   "source": [
    "# example of learned embedding encoding for a neural network\n",
    "from numpy import unique\n",
    "from pandas import read_csv\n",
    "from sklearn.model_selection import train_test_split\n",
    "from sklearn.preprocessing import LabelEncoder\n",
    "from keras.models import Model\n",
    "from keras.layers import Input\n",
    "from keras.layers import Dense\n",
    "from keras.layers import Embedding\n",
    "from tensorflow.keras.layers import concatenate\n",
    "from keras.utils import plot_model"
   ]
  },
  {
   "cell_type": "code",
   "execution_count": 93,
   "id": "cf92fe16-9f12-4791-9d84-95f35e85af07",
   "metadata": {},
   "outputs": [],
   "source": [
    "# load the dataset\n",
    "def load_dataset(filename):\n",
    "\t# load the dataset as a pandas DataFrame\n",
    "\tdata = read_csv(filename, header=None)\n",
    "\t# retrieve numpy array\n",
    "\tdataset = data.values\n",
    "\t# split into input (X) and output (y) variables\n",
    "\tX = dataset[:, :-1]\n",
    "\ty = dataset[:,-1]\n",
    "\t# format all fields as string\n",
    "\tX = X.astype(str)\n",
    "\t# reshape target to be a 2d array\n",
    "\ty = y.reshape((len(y), 1))\n",
    "\treturn X, y\n",
    "\n",
    "# prepare input data\n",
    "def prepare_inputs(X_train, X_test):\n",
    "\tX_train_enc, X_test_enc = list(), list()\n",
    "\t# label encode each column\n",
    "\tfor i in range(X_train.shape[1]):\n",
    "\t\tle = LabelEncoder()\n",
    "\t\tle.fit(X_train[:, i])\n",
    "\t\t# encode\n",
    "\t\ttrain_enc = le.transform(X_train[:, i])\n",
    "\t\ttest_enc = le.transform(X_test[:, i])\n",
    "\t\t# store\n",
    "\t\tX_train_enc.append(train_enc)\n",
    "\t\tX_test_enc.append(test_enc)\n",
    "\treturn X_train_enc, X_test_enc\n",
    "\n",
    "# prepare target\n",
    "def prepare_targets(y_train, y_test):\n",
    "\tle = LabelEncoder()\n",
    "\tle.fit(y_train)\n",
    "\ty_train_enc = le.transform(y_train)\n",
    "\ty_test_enc = le.transform(y_test)\n",
    "\treturn y_train_enc, y_test_enc"
   ]
  },
  {
   "cell_type": "code",
   "execution_count": 94,
   "id": "3afc50ec-251e-4fd3-8da5-3a776e17e95d",
   "metadata": {
    "scrolled": true
   },
   "outputs": [
    {
     "name": "stderr",
     "output_type": "stream",
     "text": [
      "C:\\Users\\BruceJo\\anaconda3\\envs\\pytest\\lib\\site-packages\\sklearn\\preprocessing\\_label.py:97: DataConversionWarning: A column-vector y was passed when a 1d array was expected. Please change the shape of y to (n_samples, ), for example using ravel().\n",
      "  y = column_or_1d(y, warn=True)\n",
      "C:\\Users\\BruceJo\\anaconda3\\envs\\pytest\\lib\\site-packages\\sklearn\\preprocessing\\_label.py:132: DataConversionWarning: A column-vector y was passed when a 1d array was expected. Please change the shape of y to (n_samples, ), for example using ravel().\n",
      "  y = column_or_1d(y, dtype=self.classes_.dtype, warn=True)\n",
      "C:\\Users\\BruceJo\\anaconda3\\envs\\pytest\\lib\\site-packages\\sklearn\\preprocessing\\_label.py:132: DataConversionWarning: A column-vector y was passed when a 1d array was expected. Please change the shape of y to (n_samples, ), for example using ravel().\n",
      "  y = column_or_1d(y, dtype=self.classes_.dtype, warn=True)\n"
     ]
    },
    {
     "name": "stdout",
     "output_type": "stream",
     "text": [
      "Epoch 1/20\n",
      "12/12 - 1s - loss: 0.6817 - accuracy: 0.6806 - 1s/epoch - 91ms/step\n",
      "Epoch 2/20\n",
      "12/12 - 0s - loss: 0.6568 - accuracy: 0.7277 - 12ms/epoch - 1000us/step\n",
      "Epoch 3/20\n",
      "12/12 - 0s - loss: 0.6263 - accuracy: 0.7277 - 12ms/epoch - 1ms/step\n",
      "Epoch 4/20\n",
      "12/12 - 0s - loss: 0.6008 - accuracy: 0.7277 - 12ms/epoch - 1ms/step\n",
      "Epoch 5/20\n",
      "12/12 - 0s - loss: 0.5801 - accuracy: 0.7277 - 12ms/epoch - 1ms/step\n",
      "Epoch 6/20\n",
      "12/12 - 0s - loss: 0.5601 - accuracy: 0.7277 - 12ms/epoch - 1000us/step\n",
      "Epoch 7/20\n",
      "12/12 - 0s - loss: 0.5473 - accuracy: 0.7277 - 13ms/epoch - 1ms/step\n",
      "Epoch 8/20\n",
      "12/12 - 0s - loss: 0.5363 - accuracy: 0.7277 - 12ms/epoch - 1ms/step\n",
      "Epoch 9/20\n",
      "12/12 - 0s - loss: 0.5268 - accuracy: 0.7330 - 12ms/epoch - 1ms/step\n",
      "Epoch 10/20\n",
      "12/12 - 0s - loss: 0.5168 - accuracy: 0.7592 - 11ms/epoch - 917us/step\n",
      "Epoch 11/20\n",
      "12/12 - 0s - loss: 0.5087 - accuracy: 0.7644 - 11ms/epoch - 917us/step\n",
      "Epoch 12/20\n",
      "12/12 - 0s - loss: 0.5026 - accuracy: 0.7749 - 11ms/epoch - 917us/step\n",
      "Epoch 13/20\n",
      "12/12 - 0s - loss: 0.4960 - accuracy: 0.7749 - 11ms/epoch - 917us/step\n",
      "Epoch 14/20\n",
      "12/12 - 0s - loss: 0.4905 - accuracy: 0.7853 - 12ms/epoch - 1ms/step\n",
      "Epoch 15/20\n",
      "12/12 - 0s - loss: 0.4866 - accuracy: 0.7853 - 14ms/epoch - 1ms/step\n",
      "Epoch 16/20\n",
      "12/12 - 0s - loss: 0.4814 - accuracy: 0.7853 - 14ms/epoch - 1ms/step\n",
      "Epoch 17/20\n",
      "12/12 - 0s - loss: 0.4782 - accuracy: 0.7906 - 12ms/epoch - 1000us/step\n",
      "Epoch 18/20\n",
      "12/12 - 0s - loss: 0.4739 - accuracy: 0.7906 - 12ms/epoch - 1ms/step\n",
      "Epoch 19/20\n",
      "12/12 - 0s - loss: 0.4699 - accuracy: 0.7906 - 12ms/epoch - 1ms/step\n",
      "Epoch 20/20\n",
      "12/12 - 0s - loss: 0.4664 - accuracy: 0.7906 - 12ms/epoch - 1ms/step\n",
      "Accuracy: 71.58\n"
     ]
    }
   ],
   "source": [
    "# load the dataset\n",
    "X, y = load_dataset('breast-cancer.csv')\n",
    "# split into train and test sets\n",
    "X_train, X_test, y_train, y_test = train_test_split(X, y, test_size=0.33, random_state=1)\n",
    "# prepare input data\n",
    "X_train_enc, X_test_enc = prepare_inputs(X_train, X_test)\n",
    "# prepare output data\n",
    "y_train_enc, y_test_enc = prepare_targets(y_train, y_test)\n",
    "# make output 3d\n",
    "y_train_enc = y_train_enc.reshape((len(y_train_enc), 1, 1))\n",
    "y_test_enc = y_test_enc.reshape((len(y_test_enc), 1, 1))\n",
    "# prepare each input head\n",
    "in_layers = list()\n",
    "em_layers = list()\n",
    "for i in range(len(X_train_enc)):\n",
    "\t# calculate the number of unique inputs\n",
    "\tn_labels = len(unique(X_train_enc[i]))\n",
    "\t# define input layer\n",
    "\tin_layer = Input(shape=(1,))\n",
    "\t# define embedding layer\n",
    "\tem_layer = Embedding(n_labels, 10)(in_layer)\n",
    "\t# store layers\n",
    "\tin_layers.append(in_layer)\n",
    "\tem_layers.append(em_layer)\n",
    "# concat all embeddings\n",
    "merge = concatenate(em_layers)\n",
    "dense = Dense(10, activation='relu', kernel_initializer='he_normal')(merge)\n",
    "output = Dense(1, activation='sigmoid')(dense)\n",
    "model = Model(inputs=in_layers, outputs=output)\n",
    "# compile the keras model\n",
    "model.compile(loss='binary_crossentropy', optimizer='adam', metrics=['accuracy'])\n",
    "# plot graph\n",
    "plot_model(model, show_shapes=True, to_file='embeddings.png')\n",
    "# fit the keras model on the dataset\n",
    "model.fit(X_train_enc, y_train_enc, epochs=20, batch_size=16, verbose=2)\n",
    "# evaluate the keras model\n",
    "_, accuracy = model.evaluate(X_test_enc, y_test_enc, verbose=0)\n",
    "print('Accuracy: %.2f' % (accuracy*100))"
   ]
  },
  {
   "cell_type": "code",
   "execution_count": 97,
   "id": "7bc4b13e-c046-40c0-8461-bc8cf3dc20b4",
   "metadata": {},
   "outputs": [
    {
     "data": {
      "text/plain": [
       "array([\"'50-59'\", \"'ge40'\", \"'25-29'\", \"'0-2'\", \"'no'\", \"'1'\", \"'left'\",\n",
       "       \"'right_low'\", \"'no'\"], dtype='<U11')"
      ]
     },
     "execution_count": 97,
     "metadata": {},
     "output_type": "execute_result"
    }
   ],
   "source": [
    "X_train[0]"
   ]
  },
  {
   "cell_type": "code",
   "execution_count": 98,
   "id": "dcbefbdc-82f8-458d-98e8-c66419370ca0",
   "metadata": {},
   "outputs": [
    {
     "data": {
      "text/plain": [
       "array([3, 1, 3, 1, 2, 2, 3, 3, 3, 1, 2, 2, 2, 2, 4, 2, 1, 4, 1, 4, 4, 3,\n",
       "       2, 3, 2, 4, 3, 2, 4, 2, 1, 2, 1, 4, 3, 1, 5, 3, 2, 2, 3, 3, 3, 2,\n",
       "       4, 3, 1, 4, 4, 5, 3, 2, 3, 3, 4, 2, 2, 3, 2, 2, 2, 4, 1, 2, 3, 3,\n",
       "       2, 2, 3, 3, 4, 2, 2, 3, 2, 1, 2, 1, 4, 2, 3, 1, 3, 3, 3, 4, 2, 4,\n",
       "       3, 2, 3, 3, 3, 3, 5, 4, 3, 2, 3, 2, 3, 2, 1, 3, 3, 3, 3, 4, 3, 1,\n",
       "       3, 4, 4, 1, 3, 2, 3, 4, 3, 3, 4, 4, 3, 3, 4, 2, 3, 2, 4, 1, 2, 3,\n",
       "       2, 1, 2, 1, 4, 4, 4, 3, 3, 2, 1, 2, 2, 3, 2, 3, 2, 3, 3, 3, 4, 1,\n",
       "       1, 2, 3, 3, 3, 2, 0, 2, 4, 3, 4, 2, 4, 2, 3, 3, 2, 2, 2, 5, 5, 3,\n",
       "       5, 1, 2, 2, 2, 2, 4, 4, 3, 2, 2, 3, 4, 4, 4])"
      ]
     },
     "execution_count": 98,
     "metadata": {},
     "output_type": "execute_result"
    }
   ],
   "source": [
    "X_train_enc[0]"
   ]
  },
  {
   "cell_type": "code",
   "execution_count": 99,
   "id": "866dbebc-c088-44ee-998b-7b8e2b48c9b6",
   "metadata": {},
   "outputs": [
    {
     "data": {
      "text/plain": [
       "array([0, 2, 2, 2, 2, 2, 0, 2, 2, 2, 2, 2, 2, 2, 0, 2, 2, 0, 2, 0, 0, 2,\n",
       "       0, 2, 2, 0, 0, 2, 1, 2, 2, 2, 2, 0, 2, 2, 0, 0, 2, 2, 2, 2, 2, 2,\n",
       "       0, 0, 2, 0, 0, 0, 2, 2, 0, 2, 0, 2, 2, 0, 2, 2, 2, 0, 2, 2, 2, 0,\n",
       "       2, 2, 0, 0, 0, 2, 2, 0, 2, 2, 2, 2, 0, 2, 0, 2, 2, 2, 0, 0, 2, 0,\n",
       "       1, 2, 0, 0, 2, 0, 0, 0, 0, 2, 0, 2, 0, 2, 2, 0, 0, 0, 0, 0, 2, 2,\n",
       "       1, 0, 0, 2, 2, 2, 2, 0, 0, 0, 0, 0, 0, 0, 1, 2, 0, 2, 0, 2, 0, 0,\n",
       "       2, 2, 2, 2, 0, 0, 0, 0, 2, 0, 2, 0, 2, 0, 2, 1, 2, 0, 2, 0, 0, 2,\n",
       "       2, 2, 0, 0, 0, 2, 2, 2, 0, 2, 0, 2, 0, 2, 0, 0, 2, 2, 2, 0, 0, 2,\n",
       "       0, 2, 2, 2, 2, 2, 0, 0, 0, 2, 2, 2, 0, 0, 0])"
      ]
     },
     "execution_count": 99,
     "metadata": {},
     "output_type": "execute_result"
    }
   ],
   "source": [
    "X_train_enc[1]"
   ]
  },
  {
   "cell_type": "code",
   "execution_count": null,
   "id": "229ad110-5482-413d-b250-6ed98acf1c52",
   "metadata": {},
   "outputs": [],
   "source": []
  }
 ],
 "metadata": {
  "kernelspec": {
   "display_name": "pytest",
   "language": "python",
   "name": "pytest"
  },
  "language_info": {
   "codemirror_mode": {
    "name": "ipython",
    "version": 3
   },
   "file_extension": ".py",
   "mimetype": "text/x-python",
   "name": "python",
   "nbconvert_exporter": "python",
   "pygments_lexer": "ipython3",
   "version": "3.10.13"
  }
 },
 "nbformat": 4,
 "nbformat_minor": 5
}
